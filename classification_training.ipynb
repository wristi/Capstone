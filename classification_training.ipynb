{
 "cells": [
  {
   "cell_type": "code",
   "execution_count": 84,
   "id": "78f43421",
   "metadata": {},
   "outputs": [],
   "source": [
    "from tensorflow.keras.preprocessing import image\n",
    "\n",
    "from tensorflow.keras.applications.resnet50 import preprocess_input, decode_predictions\n",
    "\n",
    "\n",
    "\n",
    "import matplotlib.pyplot as plt\n",
    "\n",
    "\n",
    "import numpy as np"
   ]
  },
  {
   "cell_type": "markdown",
   "id": "c7336502",
   "metadata": {},
   "source": [
    "# Keras Image Data Loading\n",
    "ref: https://keras.io/api/data_loading/image/"
   ]
  },
  {
   "cell_type": "code",
   "execution_count": 27,
   "id": "bf6c1fc4",
   "metadata": {},
   "outputs": [],
   "source": [
    "import tensorflow as tf\n",
    "from tensorflow.keras.utils import to_categorical\n",
    "from tensorflow.keras.preprocessing.image import ImageDataGenerator"
   ]
  },
  {
   "cell_type": "code",
   "execution_count": 87,
   "id": "f4e1b2c5",
   "metadata": {},
   "outputs": [],
   "source": [
    "\n",
    "def create_dataset(data_dir, shuffle=True):\n",
    "    # Use ImageDataGenerator for normalization\n",
    "    datagen = ImageDataGenerator(rescale=1./255)\n",
    "\n",
    "    # Create a TensorFlow dataset\n",
    "    train_dataset = tf.keras.utils.image_dataset_from_directory(\n",
    "        data_dir,\n",
    "        labels='inferred',\n",
    "        label_mode='categorical',\n",
    "        color_mode='rgb',\n",
    "        image_size=(224, 224),\n",
    "        shuffle=shuffle,\n",
    "        seed=42,\n",
    "        validation_split=0.2,\n",
    "        subset=\"training\",\n",
    "        interpolation=\"bilinear\",\n",
    "        crop_to_aspect_ratio=True\n",
    "    )\n",
    "\n",
    "    val_dataset = tf.keras.utils.image_dataset_from_directory(\n",
    "        data_dir,\n",
    "        labels='inferred',\n",
    "        label_mode='categorical',\n",
    "        color_mode='rgb',\n",
    "        image_size=(224, 224),\n",
    "        shuffle=shuffle,\n",
    "        seed=42,\n",
    "        validation_split=0.1,\n",
    "        subset=\"validation\",\n",
    "        interpolation=\"bilinear\",\n",
    "        crop_to_aspect_ratio=True\n",
    "    )\n",
    "\n",
    "    # Determine batch size dynamically\n",
    "    #batch_size = tf.data.experimental.cardinality(train_dataset).numpy()\n",
    "    #print(f\"Using batch size: {batch_size}\")\n",
    "\n",
    "    # Apply data augmentation and normalization to the training set\n",
    "    def augment_data(x, y):\n",
    "        x = tf.image.random_flip_left_right(x)\n",
    "        x = tf.image.random_flip_up_down(x)\n",
    "        x = tf.image.random_brightness(x, max_delta=0.2)\n",
    "        x = tf.image.random_contrast(x, lower=0.8, upper=1.2)\n",
    "        x = datagen.standardize(x)  # Normalization\n",
    "\n",
    "        # One-hot encode the labels\n",
    "        #y = tf.one_hot(y, depth=5)\n",
    "\n",
    "\n",
    "        return x, y\n",
    "\n",
    "    train_dataset = train_dataset.map(augment_data)\n",
    "\n",
    "    return train_dataset, val_dataset\n"
   ]
  },
  {
   "cell_type": "code",
   "execution_count": 88,
   "id": "9c40aa0d",
   "metadata": {},
   "outputs": [
    {
     "name": "stdout",
     "output_type": "stream",
     "text": [
      "Found 1034 files belonging to 5 classes.\n",
      "Using 828 files for training.\n",
      "Found 1034 files belonging to 5 classes.\n",
      "Using 103 files for validation.\n"
     ]
    }
   ],
   "source": [
    "# Example usage:\n",
    "data_directory = 'Pollen_RawData/'\n",
    "\n",
    "train_dataset,val_dataset = create_dataset(data_directory, shuffle=True)\n",
    "\n",
    "# Now, you can use the train_dataset for training your model"
   ]
  },
  {
   "cell_type": "code",
   "execution_count": null,
   "id": "ad1a8718",
   "metadata": {},
   "outputs": [],
   "source": []
  },
  {
   "cell_type": "markdown",
   "id": "b9656989",
   "metadata": {},
   "source": [
    "# Resnet Classification Training\n",
    "ref: https://keras.io/guides/transfer_learning/#build-a-model"
   ]
  },
  {
   "cell_type": "code",
   "execution_count": 80,
   "id": "090b5897",
   "metadata": {},
   "outputs": [],
   "source": [
    "from keras import backend as K\n",
    "\n",
    "def recall_m(y_true, y_pred):\n",
    "    true_positives = K.sum(K.round(K.clip(y_true * y_pred, 0, 1)))\n",
    "    possible_positives = K.sum(K.round(K.clip(y_true, 0, 1)))\n",
    "    recall = true_positives / (possible_positives + K.epsilon())\n",
    "    return recall\n",
    "\n",
    "def precision_m(y_true, y_pred):\n",
    "    true_positives = K.sum(K.round(K.clip(y_true * y_pred, 0, 1)))\n",
    "    predicted_positives = K.sum(K.round(K.clip(y_pred, 0, 1)))\n",
    "    precision = true_positives / (predicted_positives + K.epsilon())\n",
    "    return precision\n",
    "\n",
    "def f1_m(y_true, y_pred):\n",
    "    precision = precision_m(y_true, y_pred)\n",
    "    recall = recall_m(y_true, y_pred)\n",
    "    return 2*((precision*recall)/(precision+recall+K.epsilon()))\n"
   ]
  },
  {
   "cell_type": "code",
   "execution_count": 92,
   "id": "ee4e9735",
   "metadata": {},
   "outputs": [],
   "source": [
    "from keras.applications import ResNet101V2\n",
    "from keras import models, layers, optimizers\n",
    "from keras.callbacks import LearningRateScheduler, TensorBoard\n",
    "from keras.utils import to_categorical\n",
    "\n",
    "def train_model(train_dataset, val_dataset, num_classes, epochs=10, batch_size=32):\n",
    "    # Load the pre-trained ResNet50 model\n",
    "    base_model = ResNet101V2(weights='imagenet', include_top=False, input_shape=(224, 224, 3))\n",
    "\n",
    "    # Freeze the layers of the pre-trained model\n",
    "    for layer in base_model.layers:\n",
    "        layer.trainable = False\n",
    "        \n",
    "    # Create a new model for transfer learning\n",
    "    model = models.Sequential()\n",
    "\n",
    "    # Add the pre-trained ResNet50 model\n",
    "    model.add(base_model)\n",
    "\n",
    "    # Flatten the output of the ResNet50 model\n",
    "    model.add(layers.Flatten())\n",
    "\n",
    "    # Add your own fully connected layers for classification\n",
    "    model.add(layers.Dense(512, activation='relu'))\n",
    "    model.add(layers.Dropout(0.5))\n",
    "    model.add(layers.Dense(256, activation='relu'))\n",
    "    model.add(layers.Dropout(0.5))\n",
    "    model.add(layers.Dense(num_classes, activation='softmax'))  # Categorical classification\n",
    "\n",
    "    # Compile the model with Adam optimizer & slow learning rate\n",
    "    optimizer = optimizers.Adam(lr=1e-4)\n",
    "    model.compile(optimizer=optimizer, loss='categorical_crossentropy', metrics=['accuracy', recall_m, precision_m, f1_m])\n",
    "    \n",
    "    # Callback to adjust learning rate during training\n",
    "    def lr_schedule(epoch):\n",
    "        initial_lr = 1e-4\n",
    "        decay_factor = 0.9\n",
    "        lr = initial_lr * (decay_factor ** epoch)\n",
    "        return lr\n",
    "\n",
    "    lr_scheduler = LearningRateScheduler(lr_schedule)\n",
    "\n",
    "    # Callback to log data for TensorBoard\n",
    "    tensorboard_callback = TensorBoard(log_dir='./logs', histogram_freq=1, write_images=True)\n",
    "    \n",
    "    model.summary()\n",
    "    # Train the model\n",
    "    history = model.fit(train_dataset, epochs=epochs, validation_data=val_dataset, callbacks=[lr_scheduler, tensorboard_callback])\n",
    "\n",
    "    return model, history\n"
   ]
  },
  {
   "cell_type": "code",
   "execution_count": null,
   "id": "62d22047",
   "metadata": {},
   "outputs": [
    {
     "name": "stdout",
     "output_type": "stream",
     "text": [
      "Model: \"sequential_17\"\n",
      "_________________________________________________________________\n",
      " Layer (type)                Output Shape              Param #   \n",
      "=================================================================\n",
      " resnet101v2 (Functional)    (None, 7, 7, 2048)        42626560  \n",
      "                                                                 \n",
      " flatten_17 (Flatten)        (None, 100352)            0         \n",
      "                                                                 \n",
      " dense_51 (Dense)            (None, 512)               51380736  \n",
      "                                                                 \n",
      " dropout_34 (Dropout)        (None, 512)               0         \n",
      "                                                                 \n",
      " dense_52 (Dense)            (None, 256)               131328    \n",
      "                                                                 \n",
      " dropout_35 (Dropout)        (None, 256)               0         \n",
      "                                                                 \n",
      " dense_53 (Dense)            (None, 5)                 1285      \n",
      "                                                                 \n",
      "=================================================================\n",
      "Total params: 94,139,909\n",
      "Trainable params: 51,513,349\n",
      "Non-trainable params: 42,626,560\n",
      "_________________________________________________________________\n",
      "Epoch 1/10\n",
      "26/26 [==============================] - ETA: 0s - loss: 1.7594 - accuracy: 0.5918 - recall_m: 0.5771 - precision_m: 0.6025 - f1_m: 0.5892"
     ]
    }
   ],
   "source": [
    "# Assuming you have already created train_dataset and val_dataset using create_dataset\n",
    "\n",
    "#5 Output Neurons \n",
    "trained_model, training_history = train_model(train_dataset, val_dataset, epochs=10,num_classes=5)\n"
   ]
  },
  {
   "cell_type": "code",
   "execution_count": 91,
   "id": "1a9b605e",
   "metadata": {
    "scrolled": true
   },
   "outputs": [
    {
     "data": {
      "image/png": "[encoded data removed]",
      "text/plain": [
       "<Figure size 640x480 with 1 Axes>"
      ]
     },
     "metadata": {},
     "output_type": "display_data"
    }
   ],
   "source": [
    "import matplotlib.pyplot as plt\n",
    "\n",
    "# Assuming you've trained your model using model.fit(...) and stored the result in 'history'\n",
    "\n",
    "\n",
    "# Plot training history\n",
    "plt.plot(training_history.history['loss'], label='Training Loss')\n",
    "plt.plot(training_history.history['accuracy'], label='Training Accuracy')\n",
    "plt.plot(training_history.history['val_loss'], label='Validation Loss')\n",
    "plt.plot(training_history.history['val_accuracy'], label='Validation Accuracy')\n",
    "plt.xlabel('Epoch')\n",
    "plt.ylabel('Metric Value')\n",
    "plt.legend()\n",
    "plt.show()"
   ]
  },
  {
   "cell_type": "code",
   "execution_count": null,
   "id": "65620bdc",
   "metadata": {},
   "outputs": [],
   "source": []
  },
  {
   "cell_type": "code",
   "execution_count": null,
   "id": "1843ffc2",
   "metadata": {},
   "outputs": [],
   "source": []
  },
  {
   "cell_type": "code",
   "execution_count": null,
   "id": "bacc9411",
   "metadata": {},
   "outputs": [],
   "source": []
  }
 ],
 "metadata": {
  "kernelspec": {
   "display_name": "Python 3 (ipykernel)",
   "language": "python",
   "name": "python3"
  },
  "language_info": {
   "codemirror_mode": {
    "name": "ipython",
    "version": 3
   },
   "file_extension": ".py",
   "mimetype": "text/x-python",
   "name": "python",
   "nbconvert_exporter": "python",
   "pygments_lexer": "ipython3",
   "version": "3.10.6"
  }
 },
 "nbformat": 4,
 "nbformat_minor": 5
}
